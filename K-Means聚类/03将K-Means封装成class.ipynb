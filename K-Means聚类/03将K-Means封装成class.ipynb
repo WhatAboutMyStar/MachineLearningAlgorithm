{
 "cells": [
  {
   "cell_type": "code",
   "execution_count": 1,
   "metadata": {},
   "outputs": [],
   "source": [
    "import numpy as np\n",
    "from sklearn.datasets import load_iris"
   ]
  },
  {
   "cell_type": "code",
   "execution_count": 2,
   "metadata": {},
   "outputs": [],
   "source": [
    "class MyKMeans:\n",
    "    def __init__(self, n_cluster=3, random_state=666666):\n",
    "        self.cluster_centers_ = None\n",
    "        self.n_cluster = n_cluster\n",
    "        self.labels_ = None\n",
    "        if random_state:\n",
    "            np.random.seed(random_state)\n",
    "        \n",
    "        \n",
    "    def fit(self,x_train):\n",
    "        choice = np.random.choice(len(x_train), \n",
    "                                         self.n_cluster, \n",
    "                                         replace=False)\n",
    "        self.cluster_centers_ = x_train[choice]\n",
    "        last_centroid = self.cluster_centers_ + 10\n",
    "       \n",
    "        #质心没什么变化后就停止\n",
    "        while np.sum(np.absolute(self.cluster_centers_ - last_centroid)) > 0.000001 : \n",
    "            last_centroid = self.cluster_centers_\n",
    "            label = []\n",
    "            for data in x_train:\n",
    "                near = float('inf')\n",
    "                flag = 0\n",
    "                for i,ch in enumerate(self.cluster_centers_):\n",
    "                    dis = np.sqrt(np.sum((ch - data)**2))\n",
    "                    if dis < near:\n",
    "                        near = dis\n",
    "                        flag = i\n",
    "                label.append(flag)\n",
    "            \n",
    "            for i in range(self.n_cluster):\n",
    "                new_centroid = np.zeros(2)\n",
    "                cnt = 0\n",
    "                for index, data in enumerate(x_train):\n",
    "                    if label[index] == i:\n",
    "                        cnt += 1\n",
    "                        new_centroid += data\n",
    "                new_centroid /= cnt\n",
    "                self.cluster_centers_[i] = new_centroid\n",
    "        self.labels_ = np.array(label)\n",
    "        return self\n",
    "    \n",
    "    def predict(self,x_test):\n",
    "        label = []\n",
    "        for data in x_test:\n",
    "            near = float('inf')\n",
    "            flag = 0\n",
    "            for i,ch in enumerate(self.cluster_centers_):\n",
    "                dis = np.sqrt(np.sum((ch - data)**2))\n",
    "                if dis < near:\n",
    "                    near = dis\n",
    "                    flag = i\n",
    "            label.append(flag)\n",
    "        return np.array(label)\n",
    "    \n",
    "    def __repr__(self):\n",
    "        return \"KMeans(n_cluster={})\".format(self.n_cluster)\n",
    "    "
   ]
  },
  {
   "cell_type": "code",
   "execution_count": 3,
   "metadata": {},
   "outputs": [],
   "source": [
    "iris = load_iris()\n",
    "x = iris.data\n",
    "x = x[:,:2]\n",
    "y = iris.target"
   ]
  },
  {
   "cell_type": "code",
   "execution_count": 4,
   "metadata": {},
   "outputs": [
    {
     "data": {
      "text/plain": [
       "KMeans(n_cluster=3)"
      ]
     },
     "execution_count": 4,
     "metadata": {},
     "output_type": "execute_result"
    }
   ],
   "source": [
    "km = MyKMeans(3)\n",
    "km.fit(x)"
   ]
  },
  {
   "cell_type": "code",
   "execution_count": 5,
   "metadata": {},
   "outputs": [
    {
     "data": {
      "text/plain": [
       "array([1, 1, 1, 1, 1, 1, 1, 1, 1, 1, 1, 1, 1, 1, 1, 1, 1, 1, 1, 1, 1, 1,\n",
       "       1, 1, 1, 1, 1, 1, 1, 1, 1, 1, 1, 1, 1, 1, 1, 1, 1, 1, 1, 1, 1, 1,\n",
       "       1, 1, 1, 1, 1, 1, 0, 2, 2, 1, 2, 1, 2, 1, 2, 1, 1, 2, 2, 2, 1, 2,\n",
       "       1, 2, 2, 1, 2, 2, 2, 2, 2, 2, 2, 2, 2, 2, 1, 1, 2, 2, 1, 2, 2, 2,\n",
       "       1, 1, 1, 2, 2, 1, 1, 1, 1, 2, 1, 1, 2, 2, 0, 2, 2, 0, 1, 0, 2, 0,\n",
       "       2, 2, 2, 2, 2, 2, 2, 0, 0, 2, 2, 1, 0, 2, 2, 0, 2, 2, 2, 0, 0, 0,\n",
       "       2, 2, 2, 0, 2, 2, 2, 2, 2, 2, 2, 2, 2, 2, 2, 2, 2, 2])"
      ]
     },
     "execution_count": 5,
     "metadata": {},
     "output_type": "execute_result"
    }
   ],
   "source": [
    "km.labels_"
   ]
  },
  {
   "cell_type": "code",
   "execution_count": 6,
   "metadata": {},
   "outputs": [
    {
     "data": {
      "text/plain": [
       "array([[7.43846154, 3.13076923],\n",
       "       [5.13472222, 3.18611111],\n",
       "       [6.30923077, 2.9       ]])"
      ]
     },
     "execution_count": 6,
     "metadata": {},
     "output_type": "execute_result"
    }
   ],
   "source": [
    "km.cluster_centers_"
   ]
  },
  {
   "cell_type": "code",
   "execution_count": 7,
   "metadata": {},
   "outputs": [],
   "source": [
    "y_pred = km.predict(x)"
   ]
  },
  {
   "cell_type": "code",
   "execution_count": 9,
   "metadata": {},
   "outputs": [
    {
     "data": {
      "image/png": "[encoded data removed]",
      "text/plain": [
       "<Figure size 432x288 with 1 Axes>"
      ]
     },
     "metadata": {
      "needs_background": "light"
     },
     "output_type": "display_data"
    }
   ],
   "source": [
    "import matplotlib.pyplot as plt\n",
    "plt.scatter(x[y_pred==0,0],x[y_pred==0,1],color='red')\n",
    "plt.scatter(x[y_pred==1,0],x[y_pred==1,1],color='yellow')\n",
    "plt.scatter(x[y_pred==2,0],x[y_pred==2,1],color='blue')\n",
    "plt.scatter(km.cluster_centers_[:,0],km.cluster_centers_[:,1],\n",
    "            s=100,marker='x',color='black')\n",
    "plt.show()"
   ]
  },
  {
   "cell_type": "code",
   "execution_count": null,
   "metadata": {},
   "outputs": [],
   "source": []
  }
 ],
 "metadata": {
  "kernelspec": {
   "display_name": "Python 3",
   "language": "python",
   "name": "python3"
  },
  "language_info": {
   "codemirror_mode": {
    "name": "ipython",
    "version": 3
   },
   "file_extension": ".py",
   "mimetype": "text/x-python",
   "name": "python",
   "nbconvert_exporter": "python",
   "pygments_lexer": "ipython3",
   "version": "3.6.9"
  }
 },
 "nbformat": 4,
 "nbformat_minor": 2
}
