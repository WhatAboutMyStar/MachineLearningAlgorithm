{
 "cells": [
  {
   "cell_type": "markdown",
   "metadata": {},
   "source": [
    "# 梯度下降算法\n",
    "为什么需要梯度下降？ <br>\n",
    "随着我们的机器学习模型越来越复杂，参数越来越多，我们很难求出一个具体的公式直接解出最佳的优化参数，其次，像多元线性回归的正规方程，算法复杂度太高了，计算量会很大，我们需要一个简单的方法能更快的计算出最佳参数。"
   ]
  },
  {
   "cell_type": "markdown",
   "metadata": {},
   "source": [
    "### 假设我们要优化一个函数\n",
    "$y = f(x) =  0.5 (x-0.25)^2$ <br>\n",
    "我们的目标是不断调整参数x，使得y最小 <br>\n",
    "这个函数很简单，不难看出，最佳的x就是0.25。"
   ]
  },
  {
   "cell_type": "code",
   "execution_count": 1,
   "metadata": {},
   "outputs": [],
   "source": [
    "#定义函数\n",
    "def f(x):\n",
    "    return 0.5 * (x - 0.25)**2"
   ]
  },
  {
   "cell_type": "markdown",
   "metadata": {},
   "source": [
    "### 梯度下降的优化公式\n",
    "$\\theta = \\theta - \\alpha \\frac{\\partial J(\\theta)}{\\partial \\theta}$ <br>\n",
    "其中J($\\theta$)是目标函数，$\\theta$ 是目标参数，$\\alpha$是学习率 <br>\n",
    "也就是要求目标参数的导数（多元函数的话要求偏导数）还要定义一个学习率，来控制每次优化的步长"
   ]
  },
  {
   "cell_type": "code",
   "execution_count": 2,
   "metadata": {},
   "outputs": [],
   "source": [
    "#f(x)的导数\n",
    "def df(x):\n",
    "    return x - 0.25 #求导应该不用解释吧"
   ]
  },
  {
   "cell_type": "markdown",
   "metadata": {},
   "source": [
    "### 定义学习率"
   ]
  },
  {
   "cell_type": "code",
   "execution_count": 3,
   "metadata": {},
   "outputs": [],
   "source": [
    "alpha = 0.1"
   ]
  },
  {
   "cell_type": "markdown",
   "metadata": {},
   "source": [
    "### 将优化过程保存下来"
   ]
  },
  {
   "cell_type": "code",
   "execution_count": 4,
   "metadata": {},
   "outputs": [],
   "source": [
    "GD_X = []\n",
    "GD_Y = []"
   ]
  },
  {
   "cell_type": "code",
   "execution_count": 5,
   "metadata": {},
   "outputs": [],
   "source": [
    "x = 4 #随机初始化的x\n",
    "f_current = f_change = f(x)\n",
    "iter_num = 0"
   ]
  },
  {
   "cell_type": "code",
   "execution_count": 6,
   "metadata": {},
   "outputs": [],
   "source": [
    "while iter_num <100 and f_change > 1e-10: #迭代次数小于100次，函数变化小于1e-10次方时停止迭代\n",
    "    iter_num += 1\n",
    "    x = x - alpha * df(x)\n",
    "    tmp = f(x)\n",
    "    f_change = abs(f_current - tmp)\n",
    "    f_current = tmp\n",
    "    GD_X.append(x)\n",
    "    GD_Y.append(f_current)"
   ]
  },
  {
   "cell_type": "code",
   "execution_count": 7,
   "metadata": {},
   "outputs": [
    {
     "data": {
      "text/plain": [
       "[3.625,\n",
       " 3.2875,\n",
       " 2.98375,\n",
       " 2.710375,\n",
       " 2.4643375,\n",
       " 2.24290375,\n",
       " 2.043613375,\n",
       " 1.8642520375,\n",
       " 1.70282683375,\n",
       " 1.557544150375,\n",
       " 1.4267897353375,\n",
       " 1.30911076180375,\n",
       " 1.203199685623375,\n",
       " 1.1078797170610375,\n",
       " 1.0220917453549339,\n",
       " 0.9448825708194405,\n",
       " 0.8753943137374964,\n",
       " 0.8128548823637468,\n",
       " 0.7565693941273721,\n",
       " 0.7059124547146349,\n",
       " 0.6603212092431714,\n",
       " 0.6192890883188542,\n",
       " 0.5823601794869688,\n",
       " 0.5491241615382719,\n",
       " 0.5192117453844447,\n",
       " 0.49229057084600025,\n",
       " 0.4680615137614002,\n",
       " 0.4462553623852602,\n",
       " 0.42662982614673417,\n",
       " 0.40896684353206075,\n",
       " 0.3930701591788547,\n",
       " 0.3787631432609692,\n",
       " 0.3658868289348723,\n",
       " 0.35429814604138504,\n",
       " 0.34386833143724654,\n",
       " 0.3344814982935219,\n",
       " 0.3260333484641697,\n",
       " 0.31843001361775275,\n",
       " 0.31158701225597746,\n",
       " 0.3054283110303797,\n",
       " 0.2998854799273417,\n",
       " 0.29489693193460753,\n",
       " 0.29040723874114677,\n",
       " 0.2863665148670321,\n",
       " 0.28272986338032885,\n",
       " 0.27945687704229594,\n",
       " 0.27651118933806634,\n",
       " 0.2738600704042597,\n",
       " 0.27147406336383373,\n",
       " 0.26932665702745034,\n",
       " 0.2673939913247053,\n",
       " 0.2656545921922348,\n",
       " 0.26408913297301134,\n",
       " 0.2626802196757102,\n",
       " 0.26141219770813917,\n",
       " 0.26027097793732523,\n",
       " 0.25924388014359273,\n",
       " 0.25831949212923344,\n",
       " 0.2574875429163101,\n",
       " 0.2567387886246791,\n",
       " 0.2560649097622112,\n",
       " 0.25545841878599007,\n",
       " 0.25491257690739105,\n",
       " 0.25442131921665195,\n",
       " 0.25397918729498675,\n",
       " 0.25358126856548807,\n",
       " 0.2532231417089393,\n",
       " 0.2529008275380453,\n",
       " 0.2526107447842408,\n",
       " 0.2523496703058167,\n",
       " 0.252114703275235,\n",
       " 0.2519032329477115,\n",
       " 0.25171290965294035,\n",
       " 0.2515416186876463,\n",
       " 0.25138745681888164,\n",
       " 0.2512487111369935,\n",
       " 0.25112384002329413,\n",
       " 0.2510114560209647,\n",
       " 0.25091031041886824,\n",
       " 0.2508192793769814,\n",
       " 0.2507373514392833,\n",
       " 0.25066361629535494,\n",
       " 0.25059725466581945,\n",
       " 0.2505375291992375,\n",
       " 0.25048377627931373,\n",
       " 0.25043539865138237,\n",
       " 0.25039185878624415,\n",
       " 0.25035267290761976,\n",
       " 0.2503174056168578,\n",
       " 0.250285665055172,\n",
       " 0.25025709854965483,\n",
       " 0.25023138869468936,\n",
       " 0.25020824982522044,\n",
       " 0.2501874248426984,\n",
       " 0.25016868235842854,\n",
       " 0.2501518141225857,\n",
       " 0.2501366327103271,\n",
       " 0.2501229694392944,\n",
       " 0.25011067249536495,\n",
       " 0.25009960524582847]"
      ]
     },
     "execution_count": 7,
     "metadata": {},
     "output_type": "execute_result"
    }
   ],
   "source": [
    "GD_X #可以看出x已经无限逼近0.25了"
   ]
  },
  {
   "cell_type": "code",
   "execution_count": 8,
   "metadata": {},
   "outputs": [
    {
     "name": "stdout",
     "output_type": "stream",
     "text": [
      "0.0000000050\n"
     ]
    }
   ],
   "source": [
    "print(\"{:.10f}\".format(GD_Y[-1]))"
   ]
  },
  {
   "cell_type": "markdown",
   "metadata": {},
   "source": [
    "### 可视化学习过程"
   ]
  },
  {
   "cell_type": "code",
   "execution_count": 9,
   "metadata": {},
   "outputs": [],
   "source": [
    "import numpy as np\n",
    "import matplotlib.pyplot as plt"
   ]
  },
  {
   "cell_type": "code",
   "execution_count": 10,
   "metadata": {},
   "outputs": [],
   "source": [
    "X = np.arange(-4,4,0.05)"
   ]
  },
  {
   "cell_type": "code",
   "execution_count": 11,
   "metadata": {},
   "outputs": [],
   "source": [
    "Y = f(X)\n",
    "Y = np.array(Y)"
   ]
  },
  {
   "cell_type": "code",
   "execution_count": 12,
   "metadata": {},
   "outputs": [
    {
     "data": {
      "image/png": "[encoded data removed]",
      "text/plain": [
       "<Figure size 432x288 with 1 Axes>"
      ]
     },
     "metadata": {
      "needs_background": "light"
     },
     "output_type": "display_data"
    }
   ],
   "source": [
    "plt.plot(X,Y)\n",
    "plt.scatter(GD_X,GD_Y)\n",
    "plt.title(\"$y = 0.5(x - 0.25)^2$\")\n",
    "plt.show()"
   ]
  },
  {
   "cell_type": "code",
   "execution_count": 13,
   "metadata": {},
   "outputs": [
    {
     "data": {
      "text/plain": [
       "100"
      ]
     },
     "execution_count": 13,
     "metadata": {},
     "output_type": "execute_result"
    }
   ],
   "source": [
    "len(GD_X)"
   ]
  }
 ],
 "metadata": {
  "kernelspec": {
   "display_name": "Python 3",
   "language": "python",
   "name": "python3"
  },
  "language_info": {
   "codemirror_mode": {
    "name": "ipython",
    "version": 3
   },
   "file_extension": ".py",
   "mimetype": "text/x-python",
   "name": "python",
   "nbconvert_exporter": "python",
   "pygments_lexer": "ipython3",
   "version": "3.6.9"
  }
 },
 "nbformat": 4,
 "nbformat_minor": 2
}
