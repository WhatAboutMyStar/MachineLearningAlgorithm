{
 "cells": [
  {
   "cell_type": "code",
   "execution_count": 1,
   "metadata": {},
   "outputs": [],
   "source": [
    "import numpy as np\n",
    "from collections import Counter\n",
    "from sklearn.datasets import load_iris\n",
    "from sklearn.tree import DecisionTreeClassifier\n",
    "from sklearn.model_selection import train_test_split\n",
    "from math import log"
   ]
  },
  {
   "cell_type": "code",
   "execution_count": 2,
   "metadata": {},
   "outputs": [],
   "source": [
    "iris = load_iris()\n",
    "x = iris.data\n",
    "y = iris.target\n",
    "x_train, x_test, y_train, y_test = train_test_split(x, y, test_size=0.2, random_state=666666)"
   ]
  },
  {
   "cell_type": "code",
   "execution_count": 3,
   "metadata": {},
   "outputs": [],
   "source": [
    "class Node:\n",
    "    def __init__(self,x_data, y_label, dimension, value):\n",
    "        self.x_data = x_data\n",
    "        self.y_label = y_label\n",
    "        self.dimension = dimension\n",
    "        self.value = value\n",
    "        self.left = None\n",
    "        self.right = None"
   ]
  },
  {
   "cell_type": "code",
   "execution_count": 4,
   "metadata": {},
   "outputs": [],
   "source": [
    "class DTree:\n",
    "    def __init__(self):\n",
    "        self.root = None\n",
    "    \n",
    "    def fit(self,x_train, y_train):\n",
    "        def entropy(y_label):\n",
    "            counter = Counter(y_label)\n",
    "            ent = 0.0\n",
    "            for num in counter.values():\n",
    "                p = num / len(y_label)\n",
    "                ent += -p * log(p)\n",
    "            return ent\n",
    "        \n",
    "        def one_split(x_data, y_label):\n",
    "\n",
    "            best_entropy = float('inf')\n",
    "            best_dimension = -1\n",
    "            best_value = -1\n",
    "\n",
    "            for d in range(x_data.shape[1]):\n",
    "                sorted_index = np.argsort(x_data[:, d])\n",
    "                for i in range(1,len(x_data)):\n",
    "                    if x_data[sorted_index[i], d] != x_data[sorted_index[i - 1], d]:\n",
    "                        value = (x_data[sorted_index[i], d] + x_data[sorted_index[i-1], d]) / 2\n",
    "                        x_left, x_right, y_left, y_right = split(x_data, y_label, d, value)\n",
    "\n",
    "                        p_left = len(x_left) / len(x_data)\n",
    "                        p_right = len(x_right) / len(x_data)\n",
    "\n",
    "                        ent = p_left * entropy(y_left) + p_right * entropy(y_right)\n",
    "                        if ent < best_entropy:\n",
    "                            best_entropy = ent\n",
    "                            best_dimension = d\n",
    "                            best_value = value\n",
    "            return best_entropy, best_dimension, best_value\n",
    "        \n",
    "        def split(x_data, y_label, dimension, value):\n",
    "            \"\"\"\n",
    "            x_data:输入特征\n",
    "            y_label:输入标签类别\n",
    "            dimension:选取输入特征的维度索引\n",
    "            value：划分特征的数值\n",
    "\n",
    "            return 左子树特征，右子树特征，左子树标签，右子树标签\n",
    "            \"\"\"\n",
    "            index_left = (x_data[:,dimension] <= value)\n",
    "            index_right = (x_data[:,dimension] > value)\n",
    "            return x_data[index_left], x_data[index_right], y_label[index_left], y_label[index_right]\n",
    "        \n",
    "        def create_tree(x_data, y_label):\n",
    "            ent, dim, value = one_split(x_data, y_label)\n",
    "            x_left, x_right, y_left, y_right = split(x_data, y_label, dim, value)\n",
    "            node = Node(x_data, y_label, dim, value)\n",
    "            if ent < 0.000000001:\n",
    "                return node\n",
    "            node.left = create_tree(x_left, y_left)\n",
    "            node.right = create_tree(x_right, y_right)\n",
    "            return node\n",
    "\n",
    "        self.root = create_tree(x_train, y_train)\n",
    "        \n",
    "        return self\n",
    "    \n",
    "    def predict(self,x_predict):\n",
    "        def travel(x_data, node):\n",
    "            p = node\n",
    "            if x_data[p.dimension] <= p.value and p.left:\n",
    "                pred = travel(x_data, p.left)\n",
    "            elif x_data[p.dimension] > p.value and p.right:\n",
    "                pred = travel(x_data, p.right)\n",
    "            else:\n",
    "                counter = Counter(p.y_label)\n",
    "                pred = counter.most_common(1)[0][0]\n",
    "            return pred\n",
    "        \n",
    "        y_predict = []\n",
    "        for data in x_predict:\n",
    "            y_pred = travel(data, self.root)\n",
    "            y_predict.append(y_pred)\n",
    "        return np.array(y_predict)\n",
    "    \n",
    "    def score(self,x_test,y_test):\n",
    "        y_predict = self.predict(x_test)\n",
    "        return np.sum(y_predict == y_test) / len(y_predict)\n",
    "    \n",
    "    def __repr__(self):\n",
    "        return \"DTree(criterion='entropy')\""
   ]
  },
  {
   "cell_type": "code",
   "execution_count": 5,
   "metadata": {},
   "outputs": [
    {
     "data": {
      "text/plain": [
       "DTree(criterion='entropy')"
      ]
     },
     "execution_count": 5,
     "metadata": {},
     "output_type": "execute_result"
    }
   ],
   "source": [
    "dt = DTree()\n",
    "dt.fit(x_train, y_train)"
   ]
  },
  {
   "cell_type": "code",
   "execution_count": 6,
   "metadata": {},
   "outputs": [
    {
     "data": {
      "text/plain": [
       "array([2, 0, 2, 2, 1, 0, 2, 2, 0, 2, 1, 2, 1, 2, 2, 2, 1, 0, 2, 1, 2, 1,\n",
       "       2, 1, 1, 0, 2, 0, 2, 2])"
      ]
     },
     "execution_count": 6,
     "metadata": {},
     "output_type": "execute_result"
    }
   ],
   "source": [
    "dt.predict(x_test)"
   ]
  },
  {
   "cell_type": "code",
   "execution_count": 7,
   "metadata": {},
   "outputs": [
    {
     "data": {
      "text/plain": [
       "0.9333333333333333"
      ]
     },
     "execution_count": 7,
     "metadata": {},
     "output_type": "execute_result"
    }
   ],
   "source": [
    "dt.score(x_test,y_test)"
   ]
  },
  {
   "cell_type": "code",
   "execution_count": 8,
   "metadata": {},
   "outputs": [
    {
     "data": {
      "text/plain": [
       "0.9333333333333333"
      ]
     },
     "execution_count": 8,
     "metadata": {},
     "output_type": "execute_result"
    }
   ],
   "source": [
    "dt_clf = DecisionTreeClassifier()\n",
    "dt_clf.fit(x_train, y_train)\n",
    "dt_clf.score(x_test, y_test)"
   ]
  },
  {
   "cell_type": "code",
   "execution_count": 9,
   "metadata": {},
   "outputs": [
    {
     "data": {
      "text/plain": [
       "array([2, 0, 2, 2, 1, 0, 2, 2, 0, 2, 1, 2, 1, 2, 2, 2, 1, 0, 2, 1, 2, 1,\n",
       "       2, 1, 1, 0, 2, 0, 2, 2])"
      ]
     },
     "execution_count": 9,
     "metadata": {},
     "output_type": "execute_result"
    }
   ],
   "source": [
    "dt_clf.predict(x_test)"
   ]
  }
 ],
 "metadata": {
  "kernelspec": {
   "display_name": "Python 3",
   "language": "python",
   "name": "python3"
  },
  "language_info": {
   "codemirror_mode": {
    "name": "ipython",
    "version": 3
   },
   "file_extension": ".py",
   "mimetype": "text/x-python",
   "name": "python",
   "nbconvert_exporter": "python",
   "pygments_lexer": "ipython3",
   "version": "3.6.9"
  }
 },
 "nbformat": 4,
 "nbformat_minor": 2
}
