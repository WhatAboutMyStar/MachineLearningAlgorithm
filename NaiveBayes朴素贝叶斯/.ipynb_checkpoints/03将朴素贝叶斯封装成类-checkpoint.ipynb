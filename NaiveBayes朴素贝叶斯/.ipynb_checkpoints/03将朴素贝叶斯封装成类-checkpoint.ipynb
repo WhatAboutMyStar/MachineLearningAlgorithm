{
 "cells": [
  {
   "cell_type": "markdown",
   "metadata": {},
   "source": [
    "# NaiveBayes 朴素贝叶斯"
   ]
  },
  {
   "cell_type": "code",
   "execution_count": 1,
   "metadata": {},
   "outputs": [],
   "source": [
    "from sklearn.datasets import load_iris\n",
    "from sklearn.naive_bayes import GaussianNB\n",
    "from sklearn.model_selection import train_test_split\n",
    "\n",
    "import numpy as np\n",
    "from collections import Counter"
   ]
  },
  {
   "cell_type": "code",
   "execution_count": 2,
   "metadata": {},
   "outputs": [],
   "source": [
    "iris = load_iris()\n",
    "x = iris.data\n",
    "y = iris.target\n",
    "x_train, x_test, y_train, y_test = train_test_split(x, y, test_size=0.2, random_state=666666)"
   ]
  },
  {
   "cell_type": "code",
   "execution_count": 3,
   "metadata": {},
   "outputs": [],
   "source": [
    "class GNB:\n",
    "    def __init__(self):\n",
    "        self.mean = None\n",
    "        self.var = None\n",
    "        self.class_prior_ = None\n",
    "        self.class_count_ = None\n",
    "        self.classes_ = None\n",
    "    \n",
    "    def fit(self, x_train, y_train):\n",
    "        self.class_prior_ = self._get_prior(y_train)\n",
    "        self.classes_ = np.array(set(y_train))\n",
    "#         self.class_count_ = len(self.class_prior_)\n",
    "        self.mean = self._get_mean(x_train, y_train)\n",
    "        self.var = self._get_var(x_train, y_train)\n",
    "        return self\n",
    "    \n",
    "    def predict(self, x_data):\n",
    "        likelihood = np.apply_along_axis(self._gaussian_func, axis=1, arr=x_data)\n",
    "        probs = self.class_prior_ * likelihood\n",
    "        probs_sum = probs.sum(axis=1)\n",
    "        p = probs / probs_sum[:, None]\n",
    "        return p.argmax(axis=1)\n",
    "    \n",
    "    def score(self, x_test, y_test):\n",
    "        y_predict = self.predict(x_test)\n",
    "        return np.sum(y_predict == y_test) / len(y_test)\n",
    "    \n",
    "    def _get_mean(self, x_data, y_data):\n",
    "        return np.array([x_data[y_data == i].mean(axis=0) \\\n",
    "                         for i in range(self.class_count_)])\n",
    "    \n",
    "    def _get_var(self, x_data, y_data):\n",
    "        return np.array([x_data[y_data == i].var(axis=0) \\\n",
    "                         for i in range(self.class_count_)])\n",
    "    \n",
    "    def _get_prior(self, y_label):\n",
    "        cnt = Counter(y_label)\n",
    "        total_label = len(y_label)\n",
    "        self.class_count_ = len(cnt)\n",
    "        return np.array([cnt[i] / total_label for i in range(self.class_count_)])\n",
    "    \n",
    "    def _gaussian_func(self, x_data_row):\n",
    "        return (1 / np.sqrt(2 * np.pi * self.var)\n",
    "                * np.exp(-(x_data_row - self.mean)**2 / (2 * self.var))).prod(axis=1)\n",
    "    \n",
    "    def __repr__(self):\n",
    "        return \"GNB()\""
   ]
  },
  {
   "cell_type": "code",
   "execution_count": 4,
   "metadata": {},
   "outputs": [
    {
     "data": {
      "text/plain": [
       "array([2, 0, 2, 2, 1, 0, 2, 2, 0, 2, 1, 2, 1, 2, 2, 2, 1, 0, 2, 1, 2, 1,\n",
       "       2, 1, 1, 0, 2, 0, 1, 2], dtype=int64)"
      ]
     },
     "execution_count": 4,
     "metadata": {},
     "output_type": "execute_result"
    }
   ],
   "source": [
    "nb = GNB()\n",
    "nb.fit(x_train, y_train)\n",
    "nb.predict(x_test)"
   ]
  },
  {
   "cell_type": "code",
   "execution_count": 5,
   "metadata": {},
   "outputs": [
    {
     "data": {
      "text/plain": [
       "0.9"
      ]
     },
     "execution_count": 5,
     "metadata": {},
     "output_type": "execute_result"
    }
   ],
   "source": [
    "nb.score(x_test, y_test)"
   ]
  },
  {
   "cell_type": "code",
   "execution_count": 6,
   "metadata": {},
   "outputs": [
    {
     "data": {
      "text/plain": [
       "3"
      ]
     },
     "execution_count": 6,
     "metadata": {},
     "output_type": "execute_result"
    }
   ],
   "source": [
    "nb.class_count_"
   ]
  },
  {
   "cell_type": "code",
   "execution_count": 7,
   "metadata": {},
   "outputs": [
    {
     "data": {
      "text/plain": [
       "array([0.36666667, 0.33333333, 0.3       ])"
      ]
     },
     "execution_count": 7,
     "metadata": {},
     "output_type": "execute_result"
    }
   ],
   "source": [
    "nb.class_prior_"
   ]
  },
  {
   "cell_type": "code",
   "execution_count": 8,
   "metadata": {},
   "outputs": [
    {
     "data": {
      "text/plain": [
       "array({0, 1, 2}, dtype=object)"
      ]
     },
     "execution_count": 8,
     "metadata": {},
     "output_type": "execute_result"
    }
   ],
   "source": [
    "nb.classes_"
   ]
  }
 ],
 "metadata": {
  "kernelspec": {
   "display_name": "Python 3",
   "language": "python",
   "name": "python3"
  },
  "language_info": {
   "codemirror_mode": {
    "name": "ipython",
    "version": 3
   },
   "file_extension": ".py",
   "mimetype": "text/x-python",
   "name": "python",
   "nbconvert_exporter": "python",
   "pygments_lexer": "ipython3",
   "version": "3.6.10"
  }
 },
 "nbformat": 4,
 "nbformat_minor": 4
}
