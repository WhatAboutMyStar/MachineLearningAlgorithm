{
 "cells": [
  {
   "cell_type": "code",
   "execution_count": 1,
   "metadata": {},
   "outputs": [],
   "source": [
    "from sklearn.datasets import load_digits\n",
    "from sklearn.model_selection import train_test_split\n",
    "from sklearn.decomposition import PCA\n",
    "import numpy as np\n",
    "import matplotlib.pyplot as plt"
   ]
  },
  {
   "cell_type": "code",
   "execution_count": 2,
   "metadata": {},
   "outputs": [],
   "source": [
    "digits = load_digits()\n",
    "x = digits.data\n",
    "y = digits.target\n",
    "x_train, x_test, y_train, y_test = train_test_split(x, y, test_size=0.2,random_state=666666)"
   ]
  },
  {
   "cell_type": "code",
   "execution_count": 7,
   "metadata": {},
   "outputs": [],
   "source": [
    "class MyPCA:\n",
    "    def __init__(self,n_components):\n",
    "        self.explained_variance_ratio_ = None\n",
    "        self.n_components = n_components\n",
    "        self.top_n_vector = None\n",
    "        self.mean_vector = None\n",
    "    \n",
    "    def fit(self,X_train):\n",
    "        self.mean_vector = X_train.mean(axis=0)\n",
    "        \n",
    "        cov_matrix = np.cov(X_train.T)\n",
    "        \n",
    "        eig_value, eig_vector = np.linalg.eig(cov_matrix)\n",
    "        self.explained_variance_ratio_ = eig_value / eig_value.sum()\n",
    "        \n",
    "        self.top_n_vector = eig_vector[:,:self.n_components].T\n",
    "        \n",
    "    def transform(self,X):\n",
    "        return (X - self.mean_vector).dot(self.top_n_vector.T)\n",
    "    \n",
    "    def __repr__(self):\n",
    "        return \"PCA({})\".format(self.n_components)"
   ]
  },
  {
   "cell_type": "code",
   "execution_count": 8,
   "metadata": {},
   "outputs": [
    {
     "data": {
      "text/plain": [
       "array([17.68874067,  5.30328847])"
      ]
     },
     "execution_count": 8,
     "metadata": {},
     "output_type": "execute_result"
    }
   ],
   "source": [
    "pca = MyPCA(2)\n",
    "pca.fit(x_train)\n",
    "x_train_2 = pca.transform(x_train)\n",
    "x_train_2[0]"
   ]
  },
  {
   "cell_type": "code",
   "execution_count": 9,
   "metadata": {},
   "outputs": [
    {
     "data": {
      "text/plain": [
       "array([17.68874065,  5.30328852])"
      ]
     },
     "execution_count": 9,
     "metadata": {},
     "output_type": "execute_result"
    }
   ],
   "source": [
    "pca = PCA(n_components=2)\n",
    "pca.fit(x_train)\n",
    "x_train_pca2 = pca.transform(x_train)\n",
    "x_train_pca2[0]"
   ]
  }
 ],
 "metadata": {
  "kernelspec": {
   "display_name": "Python 3",
   "language": "python",
   "name": "python3"
  },
  "language_info": {
   "codemirror_mode": {
    "name": "ipython",
    "version": 3
   },
   "file_extension": ".py",
   "mimetype": "text/x-python",
   "name": "python",
   "nbconvert_exporter": "python",
   "pygments_lexer": "ipython3",
   "version": "3.6.9"
  }
 },
 "nbformat": 4,
 "nbformat_minor": 2
}
