{
 "cells": [
  {
   "cell_type": "markdown",
   "metadata": {},
   "source": [
    "# PCA执行的一般过程\n",
    "- 在各维度上对原始样本进行标准化，即通过线性变换，使得样本在各维度上的均值变为0\n",
    "- 计算原始各维度的协方差矩阵$C = \\frac{1}{n} XX^T$\n",
    "- 计算协方差矩阵的特征值和特征向量\n",
    "- 将特征值从大到小排序，取最大的m个特征向量组成样本线性映射矩阵$\\hat{U}$\n",
    "- 得到降维后的样本向量矩阵$Y = U^TX$"
   ]
  },
  {
   "cell_type": "code",
   "execution_count": 1,
   "metadata": {},
   "outputs": [],
   "source": [
    "from sklearn.datasets import load_digits\n",
    "from sklearn.model_selection import train_test_split\n",
    "from sklearn.decomposition import PCA\n",
    "import numpy as np\n",
    "import matplotlib.pyplot as plt"
   ]
  },
  {
   "cell_type": "markdown",
   "metadata": {},
   "source": [
    "### 导入手写数字数据集"
   ]
  },
  {
   "cell_type": "code",
   "execution_count": 2,
   "metadata": {},
   "outputs": [],
   "source": [
    "digits = load_digits()\n",
    "x = digits.data\n",
    "y = digits.target\n",
    "x_train, x_test, y_train, y_test = train_test_split(x, y, test_size=0.2,random_state=666666)"
   ]
  },
  {
   "cell_type": "code",
   "execution_count": 3,
   "metadata": {},
   "outputs": [
    {
     "data": {
      "text/plain": [
       "(1437, 64)"
      ]
     },
     "execution_count": 3,
     "metadata": {},
     "output_type": "execute_result"
    }
   ],
   "source": [
    "x_train.shape"
   ]
  },
  {
   "cell_type": "code",
   "execution_count": 4,
   "metadata": {},
   "outputs": [
    {
     "data": {
      "text/plain": [
       "(360, 64)"
      ]
     },
     "execution_count": 4,
     "metadata": {},
     "output_type": "execute_result"
    }
   ],
   "source": [
    "x_test.shape"
   ]
  },
  {
   "cell_type": "markdown",
   "metadata": {},
   "source": [
    "### 计算均值向量"
   ]
  },
  {
   "cell_type": "code",
   "execution_count": 5,
   "metadata": {},
   "outputs": [
    {
     "data": {
      "text/plain": [
       "array([0.00000000e+00, 3.02018093e-01, 5.22268615e+00, 1.18622129e+01,\n",
       "       1.18503827e+01, 5.83855254e+00, 1.32915797e+00, 1.30132220e-01,\n",
       "       5.56715379e-03, 2.02435630e+00, 1.04551148e+01, 1.19533751e+01,\n",
       "       1.02289492e+01, 8.27070285e+00, 1.82393876e+00, 1.12038970e-01,\n",
       "       3.47947112e-03, 2.61238692e+00, 9.97355602e+00, 6.93319415e+00,\n",
       "       7.05775922e+00, 7.82950592e+00, 1.77244259e+00, 5.49756437e-02,\n",
       "       1.39178845e-03, 2.40988170e+00, 9.06332637e+00, 8.79540710e+00,\n",
       "       9.97425191e+00, 7.60194850e+00, 2.31941545e+00, 2.78357690e-03,\n",
       "       0.00000000e+00, 2.28601253e+00, 7.57550452e+00, 9.09672930e+00,\n",
       "       1.02853166e+01, 8.72651357e+00, 2.92136395e+00, 0.00000000e+00,\n",
       "       6.26304802e-03, 1.53235908e+00, 6.80375783e+00, 7.11482255e+00,\n",
       "       7.65692415e+00, 8.21085595e+00, 3.46485734e+00, 2.92275574e-02,\n",
       "       8.35073069e-03, 6.94502436e-01, 7.53235908e+00, 9.54210160e+00,\n",
       "       9.41196938e+00, 8.75782881e+00, 3.78218511e+00, 2.12943633e-01,\n",
       "       6.95894224e-04, 2.76270007e-01, 5.58315936e+00, 1.21398747e+01,\n",
       "       1.18183716e+01, 6.82602644e+00, 2.12665275e+00, 3.87613083e-01])"
      ]
     },
     "execution_count": 5,
     "metadata": {},
     "output_type": "execute_result"
    }
   ],
   "source": [
    "mean_vector = x_train.mean(axis=0)\n",
    "mean_vector"
   ]
  },
  {
   "cell_type": "markdown",
   "metadata": {},
   "source": [
    "### 计算协方差矩阵"
   ]
  },
  {
   "cell_type": "code",
   "execution_count": 6,
   "metadata": {},
   "outputs": [
    {
     "data": {
      "text/plain": [
       "(64, 64)"
      ]
     },
     "execution_count": 6,
     "metadata": {},
     "output_type": "execute_result"
    }
   ],
   "source": [
    "cov_matrix = np.cov(x_train.T)\n",
    "cov_matrix.shape"
   ]
  },
  {
   "cell_type": "markdown",
   "metadata": {},
   "source": [
    "### 计算协方差矩阵的特征值和特征向量"
   ]
  },
  {
   "cell_type": "code",
   "execution_count": 7,
   "metadata": {},
   "outputs": [
    {
     "name": "stdout",
     "output_type": "stream",
     "text": [
      "(64,)\n",
      "(64, 64)\n"
     ]
    }
   ],
   "source": [
    "eig_value, eig_vector = np.linalg.eig(cov_matrix)\n",
    "print(eig_value.shape) # 特征值\n",
    "print(eig_vector.shape) #特征向量"
   ]
  },
  {
   "cell_type": "markdown",
   "metadata": {},
   "source": [
    "### 将特征值从大到小排序，取最大的m个特征向量组成样本线性映射矩阵$\\hat{U}$"
   ]
  },
  {
   "cell_type": "code",
   "execution_count": 8,
   "metadata": {},
   "outputs": [
    {
     "name": "stdout",
     "output_type": "stream",
     "text": [
      "0.1470\n",
      "0.1368\n",
      "0.1172\n",
      "0.0841\n",
      "0.0584\n",
      "0.0492\n",
      "0.0439\n",
      "0.0358\n",
      "0.0334\n",
      "0.0304\n",
      "0.0243\n",
      "0.0230\n",
      "0.0186\n",
      "0.0178\n",
      "0.0147\n",
      "0.0142\n",
      "0.0133\n",
      "0.0125\n",
      "0.0101\n",
      "0.0091\n",
      "0.0092\n",
      "0.0079\n",
      "0.0078\n",
      "0.0072\n",
      "0.0071\n",
      "0.0059\n",
      "0.0057\n",
      "0.0052\n",
      "0.0049\n",
      "0.0043\n",
      "0.0038\n",
      "0.0035\n",
      "0.0034\n",
      "0.0034\n",
      "0.0031\n",
      "0.0029\n",
      "0.0026\n",
      "0.0023\n",
      "0.0022\n",
      "0.0021\n",
      "0.0019\n",
      "0.0016\n",
      "0.0015\n",
      "0.0014\n",
      "0.0012\n",
      "0.0011\n",
      "0.0010\n",
      "0.0007\n",
      "0.0004\n",
      "0.0006\n",
      "0.0002\n",
      "0.0001\n",
      "0.0001\n",
      "0.0001\n",
      "0.0000\n",
      "0.0000\n",
      "0.0000\n",
      "0.0000\n",
      "0.0000\n",
      "0.0000\n",
      "0.0000\n",
      "0.0000\n",
      "0.0000\n",
      "0.0000\n"
     ]
    }
   ],
   "source": [
    "#每个主成分所解释的方差\n",
    "explained_variance_ratio = eig_value / eig_value.sum()\n",
    "for i in explained_variance_ratio:\n",
    "    print(\"{:.4f}\".format(i))"
   ]
  },
  {
   "cell_type": "code",
   "execution_count": 9,
   "metadata": {},
   "outputs": [
    {
     "data": {
      "image/png": "[encoded data removed]",
      "text/plain": [
       "<Figure size 432x288 with 1 Axes>"
      ]
     },
     "metadata": {
      "needs_background": "light"
     },
     "output_type": "display_data"
    }
   ],
   "source": [
    "#可解释的方差\n",
    "plt.plot(np.cumsum(explained_variance_ratio))\n",
    "plt.show()"
   ]
  },
  {
   "cell_type": "code",
   "execution_count": 10,
   "metadata": {},
   "outputs": [
    {
     "data": {
      "text/plain": [
       "array([0.14699144, 0.28380225, 0.40099137, 0.48505456, 0.54350381,\n",
       "       0.59267818, 0.63660046, 0.67242823, 0.70580513, 0.73617942,\n",
       "       0.76051425, 0.78354841, 0.80213259, 0.81993513, 0.83466734,\n",
       "       0.84885416, 0.86211983, 0.87459605, 0.88473698, 0.89383172,\n",
       "       0.90303477, 0.91096567, 0.91880326, 0.9260155 , 0.93306626,\n",
       "       0.93893606, 0.94464853, 0.94986235, 0.95475749, 0.95907168,\n",
       "       0.96285244, 0.96637052, 0.96976863, 0.97313254, 0.97618553,\n",
       "       0.97906937, 0.98162004, 0.98395163, 0.98614344, 0.98821973,\n",
       "       0.99011085, 0.99168596, 0.99314457, 0.99457301, 0.99577164,\n",
       "       0.99683849, 0.99779907, 0.99852669, 0.99895289, 0.99951963,\n",
       "       0.99974557, 0.99982345, 0.99988397, 0.99994122, 0.99997959,\n",
       "       0.99998731, 0.99999418, 0.99999766, 0.99999807, 0.99999874,\n",
       "       1.        , 1.        , 1.        , 1.        ])"
      ]
     },
     "execution_count": 10,
     "metadata": {},
     "output_type": "execute_result"
    }
   ],
   "source": [
    "np.cumsum(explained_variance_ratio)"
   ]
  },
  {
   "cell_type": "markdown",
   "metadata": {},
   "source": [
    "### 假设我们要降维到2维，即m=2"
   ]
  },
  {
   "cell_type": "code",
   "execution_count": 11,
   "metadata": {},
   "outputs": [
    {
     "data": {
      "text/plain": [
       "(2, 64)"
      ]
     },
     "execution_count": 11,
     "metadata": {},
     "output_type": "execute_result"
    }
   ],
   "source": [
    "top_2_eig_vector = eig_vector[:,:2].T\n",
    "top_2_eig_vector.shape"
   ]
  },
  {
   "cell_type": "markdown",
   "metadata": {},
   "source": [
    "### 得到降维后的样本向量矩阵$Y = U^TX$"
   ]
  },
  {
   "cell_type": "code",
   "execution_count": 12,
   "metadata": {},
   "outputs": [
    {
     "data": {
      "text/plain": [
       "(1437, 2)"
      ]
     },
     "execution_count": 12,
     "metadata": {},
     "output_type": "execute_result"
    }
   ],
   "source": [
    "(x_train - mean_vector).dot(top_2_eig_vector.T).shape"
   ]
  },
  {
   "cell_type": "code",
   "execution_count": 13,
   "metadata": {},
   "outputs": [
    {
     "data": {
      "text/plain": [
       "array([17.68874067,  5.30328847])"
      ]
     },
     "execution_count": 13,
     "metadata": {},
     "output_type": "execute_result"
    }
   ],
   "source": [
    "x_train_2 = (x_train - mean_vector).dot(top_2_eig_vector.T)\n",
    "x_train_2[0]"
   ]
  },
  {
   "cell_type": "markdown",
   "metadata": {},
   "source": [
    "### 测试"
   ]
  },
  {
   "cell_type": "code",
   "execution_count": 14,
   "metadata": {},
   "outputs": [
    {
     "data": {
      "text/plain": [
       "array([17.68874044,  5.30328883])"
      ]
     },
     "execution_count": 14,
     "metadata": {},
     "output_type": "execute_result"
    }
   ],
   "source": [
    "pca = PCA(n_components=2)\n",
    "pca.fit(x_train)\n",
    "x_train_pca2 = pca.transform(x_train)\n",
    "x_train_pca2[0]"
   ]
  }
 ],
 "metadata": {
  "kernelspec": {
   "display_name": "Python 3",
   "language": "python",
   "name": "python3"
  },
  "language_info": {
   "codemirror_mode": {
    "name": "ipython",
    "version": 3
   },
   "file_extension": ".py",
   "mimetype": "text/x-python",
   "name": "python",
   "nbconvert_exporter": "python",
   "pygments_lexer": "ipython3",
   "version": "3.6.9"
  }
 },
 "nbformat": 4,
 "nbformat_minor": 2
}
