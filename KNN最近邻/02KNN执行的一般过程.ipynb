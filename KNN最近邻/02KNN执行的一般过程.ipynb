{
 "cells": [
  {
   "cell_type": "markdown",
   "metadata": {},
   "source": [
    "## KNN算法的原理\n",
    "KNN是最简单的分类算法，它的核心思想是谁离我最近，我就跟谁是一类\n",
    "### 算法的执行步骤\n",
    "- 输入训练数据（此时相当于已经搭建好了模型）\n",
    "- 输入测试的数据和超参数k\n",
    "- 将输入数据分别与所有的训练数据逐条计算距离（可以是算欧氏距离，也可以是其他距离算法）\n",
    "- 对距离排序，找出前k个离该条数据最近的训练数据\n",
    "- 前k个数据中，出现类别最多的就是结果，返回该分类结果，输出预测"
   ]
  },
  {
   "cell_type": "code",
   "execution_count": 1,
   "metadata": {},
   "outputs": [],
   "source": [
    "from sklearn.datasets import load_iris\n",
    "from sklearn.model_selection import train_test_split"
   ]
  },
  {
   "cell_type": "markdown",
   "metadata": {},
   "source": [
    "### 载入数据"
   ]
  },
  {
   "cell_type": "code",
   "execution_count": 2,
   "metadata": {},
   "outputs": [],
   "source": [
    "iris = load_iris()\n",
    "x = iris.data\n",
    "y = iris.target"
   ]
  },
  {
   "cell_type": "code",
   "execution_count": 3,
   "metadata": {},
   "outputs": [
    {
     "data": {
      "text/plain": [
       "(150, 4)"
      ]
     },
     "execution_count": 3,
     "metadata": {},
     "output_type": "execute_result"
    }
   ],
   "source": [
    "x.shape"
   ]
  },
  {
   "cell_type": "code",
   "execution_count": 4,
   "metadata": {},
   "outputs": [
    {
     "data": {
      "text/plain": [
       "array([0, 0, 0, 0, 0, 0, 0, 0, 0, 0, 0, 0, 0, 0, 0, 0, 0, 0, 0, 0, 0, 0,\n",
       "       0, 0, 0, 0, 0, 0, 0, 0, 0, 0, 0, 0, 0, 0, 0, 0, 0, 0, 0, 0, 0, 0,\n",
       "       0, 0, 0, 0, 0, 0, 1, 1, 1, 1, 1, 1, 1, 1, 1, 1, 1, 1, 1, 1, 1, 1,\n",
       "       1, 1, 1, 1, 1, 1, 1, 1, 1, 1, 1, 1, 1, 1, 1, 1, 1, 1, 1, 1, 1, 1,\n",
       "       1, 1, 1, 1, 1, 1, 1, 1, 1, 1, 1, 1, 2, 2, 2, 2, 2, 2, 2, 2, 2, 2,\n",
       "       2, 2, 2, 2, 2, 2, 2, 2, 2, 2, 2, 2, 2, 2, 2, 2, 2, 2, 2, 2, 2, 2,\n",
       "       2, 2, 2, 2, 2, 2, 2, 2, 2, 2, 2, 2, 2, 2, 2, 2, 2, 2])"
      ]
     },
     "execution_count": 4,
     "metadata": {},
     "output_type": "execute_result"
    }
   ],
   "source": [
    "y"
   ]
  },
  {
   "cell_type": "markdown",
   "metadata": {},
   "source": [
    "### 分割训练集和测试集"
   ]
  },
  {
   "cell_type": "code",
   "execution_count": 5,
   "metadata": {},
   "outputs": [],
   "source": [
    "#划分数据集为百分之八十的训练集，剩余百分之二十是测试集\n",
    "x_train , x_test ,y_train , y_test = train_test_split(x, y, test_size=0.2, random_state=666666)"
   ]
  },
  {
   "cell_type": "code",
   "execution_count": 6,
   "metadata": {},
   "outputs": [],
   "source": [
    "X = x_test[0] #这是我们待会输入进去的数据"
   ]
  },
  {
   "cell_type": "code",
   "execution_count": 7,
   "metadata": {},
   "outputs": [
    {
     "data": {
      "text/plain": [
       "array([7.2, 3.2, 6. , 1.8])"
      ]
     },
     "execution_count": 7,
     "metadata": {},
     "output_type": "execute_result"
    }
   ],
   "source": [
    "X"
   ]
  },
  {
   "cell_type": "code",
   "execution_count": 8,
   "metadata": {},
   "outputs": [
    {
     "data": {
      "text/plain": [
       "2"
      ]
     },
     "execution_count": 8,
     "metadata": {},
     "output_type": "execute_result"
    }
   ],
   "source": [
    "y_test[0]"
   ]
  },
  {
   "cell_type": "markdown",
   "metadata": {},
   "source": [
    "### 导入我们需要的numpy"
   ]
  },
  {
   "cell_type": "code",
   "execution_count": 9,
   "metadata": {},
   "outputs": [],
   "source": [
    "import numpy as np"
   ]
  },
  {
   "cell_type": "markdown",
   "metadata": {},
   "source": [
    "### 计算距离"
   ]
  },
  {
   "cell_type": "code",
   "execution_count": 10,
   "metadata": {},
   "outputs": [],
   "source": [
    "distances = []\n",
    "for x_data in x_train:\n",
    "    distance = np.sqrt(np.sum(x_data - X)**2)\n",
    "    distances.append(distance)"
   ]
  },
  {
   "cell_type": "code",
   "execution_count": 11,
   "metadata": {},
   "outputs": [
    {
     "data": {
      "text/plain": [
       "[8.8,\n",
       " 2.500000000000001,\n",
       " 2.6000000000000005,\n",
       " 6.6000000000000005,\n",
       " 9.3,\n",
       " 2.800000000000001,\n",
       " 2.8000000000000007,\n",
       " 4.800000000000001,\n",
       " 7.500000000000002,\n",
       " 5.1000000000000005,\n",
       " 8.5,\n",
       " 2.220446049250313e-16,\n",
       " 8.6,\n",
       " 8.9,\n",
       " 3.5999999999999996,\n",
       " 8.7,\n",
       " 0.4000000000000006,\n",
       " 1.3000000000000005,\n",
       " 0.9000000000000001,\n",
       " 0.8000000000000005,\n",
       " 3.8,\n",
       " 1.7999999999999996,\n",
       " 8.6,\n",
       " 5.400000000000001,\n",
       " 2.4000000000000004,\n",
       " 9.8,\n",
       " 1.0000000000000002,\n",
       " 8.200000000000001,\n",
       " 8.0,\n",
       " 2.700000000000001,\n",
       " 6.9,\n",
       " 7.5,\n",
       " 7.800000000000001,\n",
       " 9.1,\n",
       " 2.2,\n",
       " 6.6000000000000005,\n",
       " 7.700000000000001,\n",
       " 1.3,\n",
       " 3.0,\n",
       " 3.5000000000000004,\n",
       " 7.9,\n",
       " 3.9000000000000004,\n",
       " 5.3999999999999995,\n",
       " 2.6000000000000005,\n",
       " 0.40000000000000013,\n",
       " 7.5,\n",
       " 7.6000000000000005,\n",
       " 6.500000000000001,\n",
       " 3.3000000000000007,\n",
       " 0.0999999999999992,\n",
       " 8.5,\n",
       " 4.6000000000000005,\n",
       " 4.9,\n",
       " 4.6,\n",
       " 8.8,\n",
       " 7.800000000000001,\n",
       " 1.4000000000000004,\n",
       " 0.6999999999999995,\n",
       " 0.10000000000000075,\n",
       " 4.300000000000001,\n",
       " 2.5999999999999996,\n",
       " 2.9000000000000004,\n",
       " 1.9000000000000001,\n",
       " 7.5,\n",
       " 7.4,\n",
       " 1.9000000000000001,\n",
       " 1.099999999999999,\n",
       " 4.1,\n",
       " 8.100000000000001,\n",
       " 1.2000000000000004,\n",
       " 1.5000000000000002,\n",
       " 8.0,\n",
       " 0.5000000000000011,\n",
       " 3.8,\n",
       " 8.4,\n",
       " 8.0,\n",
       " 8.5,\n",
       " 8.3,\n",
       " 6.199999999999999,\n",
       " 2.8000000000000007,\n",
       " 2.3000000000000007,\n",
       " 1.600000000000001,\n",
       " 7.200000000000001,\n",
       " 3.6000000000000005,\n",
       " 4.4,\n",
       " 8.8,\n",
       " 2.7,\n",
       " 7.9,\n",
       " 8.2,\n",
       " 2.1000000000000014,\n",
       " 5.1000000000000005,\n",
       " 2.4000000000000012,\n",
       " 9.7,\n",
       " 7.5,\n",
       " 6.661338147750939e-16,\n",
       " 3.3000000000000003,\n",
       " 2.2,\n",
       " 7.500000000000001,\n",
       " 7.0,\n",
       " 0.09999999999999987,\n",
       " 2.500000000000001,\n",
       " 0.10000000000000031,\n",
       " 3.9000000000000004,\n",
       " 8.8,\n",
       " 8.1,\n",
       " 3.400000000000001,\n",
       " 6.800000000000001,\n",
       " 0.6000000000000003,\n",
       " 8.7,\n",
       " 3.0,\n",
       " 2.220446049250313e-16,\n",
       " 6.7,\n",
       " 5.6000000000000005,\n",
       " 2.5999999999999996,\n",
       " 1.4000000000000006,\n",
       " 3.5,\n",
       " 4.6,\n",
       " 7.0,\n",
       " 4.6,\n",
       " 4.200000000000001]"
      ]
     },
     "execution_count": 11,
     "metadata": {},
     "output_type": "execute_result"
    }
   ],
   "source": [
    "distances"
   ]
  },
  {
   "cell_type": "markdown",
   "metadata": {},
   "source": [
    "### 对距离排序\n",
    "numpy中提供了非常好的排序算法，帮我们减轻了负担"
   ]
  },
  {
   "cell_type": "code",
   "execution_count": 12,
   "metadata": {},
   "outputs": [
    {
     "data": {
      "text/plain": [
       "array([110,  11,  94,  49,  99, 101,  58,  44,  16,  72, 107,  57,  19,\n",
       "        18,  26,  66,  69,  37,  17,  56, 114,  70,  81,  21,  65,  62,\n",
       "        89,  34,  96,  80,  24,  91,   1, 100,  60, 113,   2,  43,  86,\n",
       "        29,  79,   6,   5,  61,  38, 109,  95,  48, 105, 115,  39,  14,\n",
       "        83,  73,  20, 102,  41,  67, 119,  59,  84,  53, 116, 118,  51,\n",
       "         7,  52,  90,   9,  42,  23, 112,  78,  47,  35,   3, 111, 106,\n",
       "        30, 117,  98,  82,  64,  45,  63,  93,  31,  97,   8,  46,  36,\n",
       "        55,  32,  87,  40,  75,  28,  71, 104,  68,  88,  27,  77,  74,\n",
       "        50,  10,  76,  12,  22, 108,  15,  54,   0,  85, 103,  13,  33,\n",
       "         4,  92,  25], dtype=int64)"
      ]
     },
     "execution_count": 12,
     "metadata": {},
     "output_type": "execute_result"
    }
   ],
   "source": [
    "np.argsort(distances) #以下所显示的是离我们最近的样本的索引"
   ]
  },
  {
   "cell_type": "markdown",
   "metadata": {},
   "source": [
    "### 指定超参数K\n",
    "我们假设K = 3"
   ]
  },
  {
   "cell_type": "code",
   "execution_count": 25,
   "metadata": {},
   "outputs": [],
   "source": [
    "k = 3\n",
    "nearest = np.argsort(distances)[:k] #取前k个"
   ]
  },
  {
   "cell_type": "code",
   "execution_count": 27,
   "metadata": {},
   "outputs": [
    {
     "data": {
      "text/plain": [
       "[2, 2, 2]"
      ]
     },
     "execution_count": 27,
     "metadata": {},
     "output_type": "execute_result"
    }
   ],
   "source": [
    "top_k_y = [y_train[index] for index in nearest]\n",
    "top_k_y #说实话我没想到都是2，我事先试过了，试到了40基本上都还是2，看来这个数据集非常适合KNN"
   ]
  },
  {
   "cell_type": "markdown",
   "metadata": {},
   "source": [
    "### 选出类别数量最多的做为预测结果\n",
    "这里离样本最近的都是2这个类别的鸢尾花，其实不用看都知道答案了，但是为了算法具有泛化能力我们还是得把具体过程写出来"
   ]
  },
  {
   "cell_type": "code",
   "execution_count": 29,
   "metadata": {},
   "outputs": [
    {
     "data": {
      "text/plain": [
       "{2: 3}"
      ]
     },
     "execution_count": 29,
     "metadata": {},
     "output_type": "execute_result"
    }
   ],
   "source": [
    "d = {}\n",
    "for cls in top_k_y:\n",
    "    d[cls] = d.get(cls,0) + 1\n",
    "d"
   ]
  },
  {
   "cell_type": "code",
   "execution_count": 30,
   "metadata": {},
   "outputs": [
    {
     "data": {
      "text/plain": [
       "2"
      ]
     },
     "execution_count": 30,
     "metadata": {},
     "output_type": "execute_result"
    }
   ],
   "source": [
    "d_list = list(d.items())\n",
    "d_list.sort(key=lambda x:x[1],reverse=True)\n",
    "d_list[0][0] #这就是最终预测结果"
   ]
  },
  {
   "cell_type": "code",
   "execution_count": null,
   "metadata": {},
   "outputs": [],
   "source": []
  },
  {
   "cell_type": "code",
   "execution_count": null,
   "metadata": {},
   "outputs": [],
   "source": []
  }
 ],
 "metadata": {
  "kernelspec": {
   "display_name": "Python 3",
   "language": "python",
   "name": "python3"
  },
  "language_info": {
   "codemirror_mode": {
    "name": "ipython",
    "version": 3
   },
   "file_extension": ".py",
   "mimetype": "text/x-python",
   "name": "python",
   "nbconvert_exporter": "python",
   "pygments_lexer": "ipython3",
   "version": "3.6.9"
  }
 },
 "nbformat": 4,
 "nbformat_minor": 2
}
