{
 "cells": [
  {
   "cell_type": "code",
   "execution_count": 1,
   "metadata": {},
   "outputs": [],
   "source": [
    "import numpy as np"
   ]
  },
  {
   "cell_type": "code",
   "execution_count": 2,
   "metadata": {},
   "outputs": [],
   "source": [
    "class LinearRegression_1:\n",
    "    def __init__(self):\n",
    "        self._x_train = None\n",
    "        self._y_train = None\n",
    "        self.a_ = None\n",
    "        self.b_ = None\n",
    "    \n",
    "    def fit(self,x_train,y_train):\n",
    "        self._x_train = x_train\n",
    "        self._y_train = y_train\n",
    "        x_mean = np.mean(self._x_train)\n",
    "        y_mean = np.mean(self._y_train)\n",
    "        \n",
    "        a_up = 0.0\n",
    "        a_down = 0.0\n",
    "        for x, y  in zip(self._x_train,self._y_train):\n",
    "            a_up += (x - x_mean) * (y - y_mean)\n",
    "            a_down += (x - x_mean)**2\n",
    "        self.a_ = a_up / a_down\n",
    "        self.b_ = y_mean - self.a_ * x_mean\n",
    "        return self\n",
    "    \n",
    "    def predict(self,x_data):\n",
    "        return np.array([self._predict(x) for x in x_data])\n",
    "    \n",
    "    def _predict(self,x):\n",
    "        return self.a_ * x + self.b_\n",
    "    \n",
    "    def __repr__(self):\n",
    "        return \"LinearRegression_1()\""
   ]
  },
  {
   "cell_type": "code",
   "execution_count": 3,
   "metadata": {},
   "outputs": [],
   "source": [
    "from sklearn.datasets import load_boston\n",
    "from sklearn.model_selection import train_test_split"
   ]
  },
  {
   "cell_type": "code",
   "execution_count": 4,
   "metadata": {},
   "outputs": [],
   "source": [
    "boston = load_boston()\n",
    "x = boston.data[:,5]\n",
    "y = boston.target"
   ]
  },
  {
   "cell_type": "code",
   "execution_count": 5,
   "metadata": {},
   "outputs": [],
   "source": [
    "x = x.reshape(-1,1)\n",
    "x_train, x_test, y_train, y_test = train_test_split(x, y, test_size=0.2, random_state=666666)"
   ]
  },
  {
   "cell_type": "code",
   "execution_count": 6,
   "metadata": {},
   "outputs": [
    {
     "data": {
      "text/plain": [
       "LinearRegression_1()"
      ]
     },
     "execution_count": 6,
     "metadata": {},
     "output_type": "execute_result"
    }
   ],
   "source": [
    "lr = LinearRegression_1()\n",
    "lr.fit(x_train,y_train)"
   ]
  },
  {
   "cell_type": "code",
   "execution_count": 7,
   "metadata": {},
   "outputs": [
    {
     "data": {
      "text/plain": [
       "array([[18.54295993],\n",
       "       [19.97143463],\n",
       "       [19.76082618],\n",
       "       [24.1286623 ],\n",
       "       [24.66891876],\n",
       "       [20.46590664],\n",
       "       [24.89784098],\n",
       "       [20.71314265],\n",
       "       [31.39007538],\n",
       "       [29.43965799],\n",
       "       [23.73491606],\n",
       "       [17.03207322],\n",
       "       [27.04970993],\n",
       "       [23.2862285 ],\n",
       "       [14.33994782],\n",
       "       [15.80505008],\n",
       "       [21.33581111],\n",
       "       [24.81542898],\n",
       "       [26.88488593],\n",
       "       [20.32855331],\n",
       "       [31.93033184],\n",
       "       [17.40750568],\n",
       "       [20.88712354],\n",
       "       [19.56853151],\n",
       "       [20.00806219],\n",
       "       [20.76808399],\n",
       "       [25.27327344],\n",
       "       [17.04123011],\n",
       "       [25.72196101],\n",
       "       [18.38729281],\n",
       "       [19.12900083],\n",
       "       [18.92754927],\n",
       "       [21.0061631 ],\n",
       "       [30.57511224],\n",
       "       [ 9.4684828 ],\n",
       "       [36.89336574],\n",
       "       [28.5880673 ],\n",
       "       [15.77757941],\n",
       "       [31.04211359],\n",
       "       [26.38125702],\n",
       "       [19.04658883],\n",
       "       [10.67719216],\n",
       "       [18.01186036],\n",
       "       [26.58270858],\n",
       "       [22.22402936],\n",
       "       [36.38973684],\n",
       "       [30.23630735],\n",
       "       [27.77310417],\n",
       "       [20.88712354],\n",
       "       [22.00426402],\n",
       "       [17.02291633],\n",
       "       [17.35256434],\n",
       "       [22.61777559],\n",
       "       [23.5334645 ],\n",
       "       [17.92029147],\n",
       "       [26.39041391],\n",
       "       [23.23128716],\n",
       "       [20.56663243],\n",
       "       [20.97869244],\n",
       "       [21.31749733],\n",
       "       [23.16718894],\n",
       "       [19.89817952],\n",
       "       [14.85273361],\n",
       "       [24.15613296],\n",
       "       [28.69794997],\n",
       "       [21.41822311],\n",
       "       [20.8413391 ],\n",
       "       [26.29884502],\n",
       "       [10.8969575 ],\n",
       "       [19.26635417],\n",
       "       [19.9989053 ],\n",
       "       [20.26445508],\n",
       "       [18.20415503],\n",
       "       [23.91805385],\n",
       "       [25.17254766],\n",
       "       [20.71314265],\n",
       "       [16.21711009],\n",
       "       [24.40336897],\n",
       "       [28.69794997],\n",
       "       [40.75757296],\n",
       "       [23.48768006],\n",
       "       [25.53882322],\n",
       "       [44.67672151],\n",
       "       [18.69862704],\n",
       "       [33.6426701 ],\n",
       "       [10.5673095 ],\n",
       "       [16.10722742],\n",
       "       [23.43273872],\n",
       "       [17.22436789],\n",
       "       [22.4437947 ],\n",
       "       [ 9.8896997 ],\n",
       "       [26.99476859],\n",
       "       [22.01342091],\n",
       "       [18.70778393],\n",
       "       [18.55211682],\n",
       "       [28.32251752],\n",
       "       [-2.60945396],\n",
       "       [19.9164933 ],\n",
       "       [21.04279066],\n",
       "       [20.64904443],\n",
       "       [19.27551106],\n",
       "       [24.2110743 ]])"
      ]
     },
     "execution_count": 7,
     "metadata": {},
     "output_type": "execute_result"
    }
   ],
   "source": [
    "lr.predict(x_test)"
   ]
  }
 ],
 "metadata": {
  "kernelspec": {
   "display_name": "Python 3",
   "language": "python",
   "name": "python3"
  },
  "language_info": {
   "codemirror_mode": {
    "name": "ipython",
    "version": 3
   },
   "file_extension": ".py",
   "mimetype": "text/x-python",
   "name": "python",
   "nbconvert_exporter": "python",
   "pygments_lexer": "ipython3",
   "version": "3.6.9"
  }
 },
 "nbformat": 4,
 "nbformat_minor": 2
}
